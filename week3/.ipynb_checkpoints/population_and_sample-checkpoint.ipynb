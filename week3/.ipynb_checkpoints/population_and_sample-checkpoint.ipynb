{
 "cells": [
  {
   "cell_type": "markdown",
   "metadata": {},
   "source": [
    "### POPULATION AND SAMPLE\n",
    "---"
   ]
  },
  {
   "cell_type": "markdown",
   "metadata": {},
   "source": [
    "### Libraries"
   ]
  },
  {
   "cell_type": "code",
   "execution_count": 1,
   "metadata": {},
   "outputs": [],
   "source": [
    "import pandas as pd\n",
    "import matplotlib.pyplot as plt\n",
    "import numpy as np\n",
    "\n",
    "np.random.seed(10)"
   ]
  },
  {
   "cell_type": "markdown",
   "metadata": {},
   "source": [
    "### Functions"
   ]
  },
  {
   "cell_type": "code",
   "execution_count": 2,
   "metadata": {},
   "outputs": [],
   "source": [
    "def get_statistics(pd_series, sample=0):\n",
    "    '''\n",
    "    input: pandas Series object and sample (ddof for variance and std)\n",
    "    output: list containing mean, var and std\n",
    "    description: calculates the statistics for a population of numbers\n",
    "    '''\n",
    "    mean = pd_series.mean()\n",
    "    var = pd_series.var(ddof=sample)\n",
    "    std = pd_series.std(ddof=sample)\n",
    "    return [mean, var, std]\n",
    "    "
   ]
  },
  {
   "cell_type": "code",
   "execution_count": 3,
   "metadata": {},
   "outputs": [],
   "source": [
    "def print_statistics(statistics, rounded_cases=4):\n",
    "    '''\n",
    "    input: get_statistics output (list) and number of desired cases (int)\n",
    "    output: \n",
    "    description: print the statistics for a population of numbers\n",
    "    '''\n",
    "    print(\"Mean is: {0}\".format(round(statistics[0], rounded_cases)))\n",
    "    print(\"Var is: {0}\".format(round(statistics[1], rounded_cases)))\n",
    "    print(\"Std is: {0}\".format(round(statistics[2], rounded_cases)))"
   ]
  },
  {
   "cell_type": "markdown",
   "metadata": {},
   "source": [
    "### Analisys"
   ]
  },
  {
   "cell_type": "code",
   "execution_count": 4,
   "metadata": {},
   "outputs": [],
   "source": [
    "population = [np.random.randint(10, 100) for i in range(10)] \n",
    "data = pd.DataFrame({\"Population\": population})"
   ]
  },
  {
   "cell_type": "code",
   "execution_count": 5,
   "metadata": {},
   "outputs": [
    {
     "name": "stdout",
     "output_type": "stream",
     "text": [
      "Mean is: 45.5\n",
      "Var is: 833.85\n",
      "Std is: 28.8765\n"
     ]
    }
   ],
   "source": [
    "statistics = get_statistics(data[\"Population\"], sample=0)\n",
    "print_statistics(statistics)"
   ]
  },
  {
   "cell_type": "code",
   "execution_count": 6,
   "metadata": {},
   "outputs": [
    {
     "name": "stdout",
     "output_type": "stream",
     "text": [
      "Mean is: 54.2\n",
      "Var is: 580.7\n",
      "Std is: 24.0977\n"
     ]
    }
   ],
   "source": [
    "with_replacement = data[\"Population\"].sample(5, replace=False)\n",
    "statistics = get_statistics(with_replacement, sample=1)\n",
    "print_statistics(statistics)"
   ]
  },
  {
   "cell_type": "code",
   "execution_count": null,
   "metadata": {},
   "outputs": [],
   "source": []
  }
 ],
 "metadata": {
  "kernelspec": {
   "display_name": "Python 3 (ipykernel)",
   "language": "python",
   "name": "python3"
  },
  "language_info": {
   "codemirror_mode": {
    "name": "ipython",
    "version": 3
   },
   "file_extension": ".py",
   "mimetype": "text/x-python",
   "name": "python",
   "nbconvert_exporter": "python",
   "pygments_lexer": "ipython3",
   "version": "3.9.7"
  },
  "vscode": {
   "interpreter": {
    "hash": "d8ec4a234a3048a765173e7b64119a8d1a8e4ce4548f9a2d0fe97ce15d6f4926"
   }
  }
 },
 "nbformat": 4,
 "nbformat_minor": 2
}
