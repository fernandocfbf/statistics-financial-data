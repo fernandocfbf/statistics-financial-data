{
 "cells": [
  {
   "cell_type": "markdown",
   "id": "66a178db",
   "metadata": {},
   "source": [
    "### CONFIDENCE INTERVAL\n",
    "---"
   ]
  },
  {
   "cell_type": "markdown",
   "id": "ab1c2ee2",
   "metadata": {},
   "source": [
    "### Libraries"
   ]
  },
  {
   "cell_type": "code",
   "execution_count": 1,
   "id": "63023f49",
   "metadata": {},
   "outputs": [],
   "source": [
    "import pandas as pd\n",
    "import numpy as np\n",
    "from scipy.stats import norm\n",
    "import matplotlib.pyplot as plt"
   ]
  },
  {
   "cell_type": "markdown",
   "id": "191a7f9d",
   "metadata": {},
   "source": [
    "### Reading data"
   ]
  },
  {
   "cell_type": "code",
   "execution_count": 2,
   "id": "4008b6e5",
   "metadata": {},
   "outputs": [],
   "source": [
    "ms = pd.read_csv(\"../data/microsoft.csv\")"
   ]
  },
  {
   "cell_type": "code",
   "execution_count": 3,
   "id": "e9031670",
   "metadata": {},
   "outputs": [
    {
     "data": {
      "text/html": [
       "<div>\n",
       "<style scoped>\n",
       "    .dataframe tbody tr th:only-of-type {\n",
       "        vertical-align: middle;\n",
       "    }\n",
       "\n",
       "    .dataframe tbody tr th {\n",
       "        vertical-align: top;\n",
       "    }\n",
       "\n",
       "    .dataframe thead th {\n",
       "        text-align: right;\n",
       "    }\n",
       "</style>\n",
       "<table border=\"1\" class=\"dataframe\">\n",
       "  <thead>\n",
       "    <tr style=\"text-align: right;\">\n",
       "      <th></th>\n",
       "      <th>Date</th>\n",
       "      <th>Open</th>\n",
       "      <th>High</th>\n",
       "      <th>Low</th>\n",
       "      <th>Close</th>\n",
       "      <th>Adj Close</th>\n",
       "      <th>Volume</th>\n",
       "    </tr>\n",
       "  </thead>\n",
       "  <tbody>\n",
       "    <tr>\n",
       "      <th>0</th>\n",
       "      <td>2014-12-31</td>\n",
       "      <td>46.730000</td>\n",
       "      <td>47.439999</td>\n",
       "      <td>46.450001</td>\n",
       "      <td>46.450001</td>\n",
       "      <td>42.848763</td>\n",
       "      <td>21552500</td>\n",
       "    </tr>\n",
       "    <tr>\n",
       "      <th>1</th>\n",
       "      <td>2015-01-02</td>\n",
       "      <td>46.660000</td>\n",
       "      <td>47.419998</td>\n",
       "      <td>46.540001</td>\n",
       "      <td>46.759998</td>\n",
       "      <td>43.134731</td>\n",
       "      <td>27913900</td>\n",
       "    </tr>\n",
       "    <tr>\n",
       "      <th>2</th>\n",
       "      <td>2015-01-05</td>\n",
       "      <td>46.369999</td>\n",
       "      <td>46.730000</td>\n",
       "      <td>46.250000</td>\n",
       "      <td>46.330002</td>\n",
       "      <td>42.738068</td>\n",
       "      <td>39673900</td>\n",
       "    </tr>\n",
       "    <tr>\n",
       "      <th>3</th>\n",
       "      <td>2015-01-06</td>\n",
       "      <td>46.380001</td>\n",
       "      <td>46.750000</td>\n",
       "      <td>45.540001</td>\n",
       "      <td>45.650002</td>\n",
       "      <td>42.110783</td>\n",
       "      <td>36447900</td>\n",
       "    </tr>\n",
       "    <tr>\n",
       "      <th>4</th>\n",
       "      <td>2015-01-07</td>\n",
       "      <td>45.980000</td>\n",
       "      <td>46.459999</td>\n",
       "      <td>45.490002</td>\n",
       "      <td>46.230000</td>\n",
       "      <td>42.645817</td>\n",
       "      <td>29114100</td>\n",
       "    </tr>\n",
       "  </tbody>\n",
       "</table>\n",
       "</div>"
      ],
      "text/plain": [
       "         Date       Open       High        Low      Close  Adj Close    Volume\n",
       "0  2014-12-31  46.730000  47.439999  46.450001  46.450001  42.848763  21552500\n",
       "1  2015-01-02  46.660000  47.419998  46.540001  46.759998  43.134731  27913900\n",
       "2  2015-01-05  46.369999  46.730000  46.250000  46.330002  42.738068  39673900\n",
       "3  2015-01-06  46.380001  46.750000  45.540001  45.650002  42.110783  36447900\n",
       "4  2015-01-07  45.980000  46.459999  45.490002  46.230000  42.645817  29114100"
      ]
     },
     "execution_count": 3,
     "metadata": {},
     "output_type": "execute_result"
    }
   ],
   "source": [
    "ms.head()"
   ]
  },
  {
   "cell_type": "markdown",
   "id": "8699e698",
   "metadata": {},
   "source": [
    "### Average stock return"
   ]
  },
  {
   "cell_type": "code",
   "execution_count": 4,
   "id": "6f79ad95",
   "metadata": {},
   "outputs": [],
   "source": [
    "ms[\"log_return\"] = np.log(ms[\"Close\"].shift(-1)) - np.log(ms[\"Close\"])"
   ]
  },
  {
   "cell_type": "code",
   "execution_count": 5,
   "id": "3b994754",
   "metadata": {},
   "outputs": [
    {
     "data": {
      "image/png": "[encoded data removed]",
      "text/plain": [
       "<Figure size 432x288 with 1 Axes>"
      ]
     },
     "metadata": {
      "needs_background": "light"
     },
     "output_type": "display_data"
    }
   ],
   "source": [
    "ms[\"log_return\"].hist(bins=20)\n",
    "plt.title(\"Histogram for log return\")\n",
    "plt.show()"
   ]
  },
  {
   "cell_type": "code",
   "execution_count": 7,
   "id": "542389c2",
   "metadata": {},
   "outputs": [
    {
     "name": "stdout",
     "output_type": "stream",
     "text": [
      "Sample size: 780\n",
      "Sample mean: 0.0008202314861230223\n",
      "Sample SD: 0.014191897388737506\n"
     ]
    }
   ],
   "source": [
    "sample_size = ms[\"log_return\"].shape[0]\n",
    "sample_mean = ms[\"log_return\"].mean()\n",
    "sample_std = ms[\"log_return\"].std(ddof=1)\n",
    "print(\"Sample size: {0}\".format(sample_size))\n",
    "print(\"Sample mean: {0}\".format(sample_mean))\n",
    "print(\"Sample SD: {0}\".format(sample_std))"
   ]
  },
  {
   "cell_type": "code",
   "execution_count": 8,
   "id": "92f3f03f",
   "metadata": {},
   "outputs": [
    {
     "name": "stdout",
     "output_type": "stream",
     "text": [
      "80% confidence interval is\n",
      "-0.017367416830461856 | 0.0190078798027079\n"
     ]
    }
   ],
   "source": [
    "z_left = norm.ppf(0.1)\n",
    "z_right = norm.ppf(0.9)\n",
    "\n",
    "interval_left = sample_mean + z_left*sample_std\n",
    "interval_right = sample_mean + z_right*sample_std\n",
    "print(\"80% confidence interval is\")\n",
    "print(\"{0} | {1}\".format(interval_left, interval_right))"
   ]
  },
  {
   "cell_type": "code",
   "execution_count": 17,
   "id": "fddb46e7",
   "metadata": {},
   "outputs": [
    {
     "name": "stdout",
     "output_type": "stream",
     "text": [
      "80% confidence interval is\n",
      "-0.017367416830461856 | 0.0190078798027079\n"
     ]
    }
   ],
   "source": [
    "left_limit = norm.ppf(0.10, sample_mean, sample_std)\n",
    "right_limit = norm.ppf(0.90, sample_mean, sample_std)\n",
    "print(\"80% confidence interval is\")\n",
    "print(\"{0} | {1}\".format(left_limit, right_limit))"
   ]
  },
  {
   "cell_type": "code",
   "execution_count": 22,
   "id": "524c9e74",
   "metadata": {},
   "outputs": [
    {
     "data": {
      "image/png": "[encoded data removed]",
      "text/plain": [
       "<Figure size 432x288 with 1 Axes>"
      ]
     },
     "metadata": {
      "needs_background": "light"
     },
     "output_type": "display_data"
    }
   ],
   "source": [
    "ms[\"log_return\"].hist(bins=40)\n",
    "plt.axvline(x = left_limit, color = 'r')\n",
    "plt.axvline(x = right_limit, color = 'r')\n",
    "plt.title(\"Histogram for return\")\n",
    "plt.show()"
   ]
  },
  {
   "cell_type": "code",
   "execution_count": null,
   "id": "8b6771da",
   "metadata": {},
   "outputs": [],
   "source": []
  }
 ],
 "metadata": {
  "kernelspec": {
   "display_name": "Python 3 (ipykernel)",
   "language": "python",
   "name": "python3"
  },
  "language_info": {
   "codemirror_mode": {
    "name": "ipython",
    "version": 3
   },
   "file_extension": ".py",
   "mimetype": "text/x-python",
   "name": "python",
   "nbconvert_exporter": "python",
   "pygments_lexer": "ipython3",
   "version": "3.9.7"
  }
 },
 "nbformat": 4,
 "nbformat_minor": 5
}
